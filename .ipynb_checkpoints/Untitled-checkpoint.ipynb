{
 "cells": [
  {
   "cell_type": "code",
   "execution_count": 3,
   "metadata": {},
   "outputs": [],
   "source": [
    "import pandas as pd\n",
    "import requests"
   ]
  },
  {
   "cell_type": "code",
   "execution_count": 4,
   "metadata": {},
   "outputs": [],
   "source": [
    "url = 'https://api.github.com/repos/pandas-dev/pandas/issues'"
   ]
  },
  {
   "cell_type": "code",
   "execution_count": 21,
   "metadata": {},
   "outputs": [
    {
     "data": {
      "text/plain": [
       "[{'id': 57296398,\n",
       "  'node_id': 'MDU6TGFiZWw1NzI5NjM5OA==',\n",
       "  'url': 'https://api.github.com/repos/pandas-dev/pandas/labels/Algos',\n",
       "  'name': 'Algos',\n",
       "  'color': 'eb6420',\n",
       "  'default': False,\n",
       "  'description': 'Non-arithmetic algos: value_counts, factorize, sorting, isin, clip, shift, diff'},\n",
       " {'id': 76811,\n",
       "  'node_id': 'MDU6TGFiZWw3NjgxMQ==',\n",
       "  'url': 'https://api.github.com/repos/pandas-dev/pandas/labels/Bug',\n",
       "  'name': 'Bug',\n",
       "  'color': 'e10c02',\n",
       "  'default': False,\n",
       "  'description': None},\n",
       " {'id': 233160,\n",
       "  'node_id': 'MDU6TGFiZWwyMzMxNjA=',\n",
       "  'url': 'https://api.github.com/repos/pandas-dev/pandas/labels/Groupby',\n",
       "  'name': 'Groupby',\n",
       "  'color': '729FCF',\n",
       "  'default': False,\n",
       "  'description': None},\n",
       " {'id': 2822342,\n",
       "  'node_id': 'MDU6TGFiZWwyODIyMzQy',\n",
       "  'url': 'https://api.github.com/repos/pandas-dev/pandas/labels/Missing-data',\n",
       "  'name': 'Missing-data',\n",
       "  'color': 'd7e102',\n",
       "  'default': False,\n",
       "  'description': None}]"
      ]
     },
     "execution_count": 21,
     "metadata": {},
     "output_type": "execute_result"
    }
   ],
   "source": [
    "response = requests.get(url).json()\n",
    "response[0]['labels']"
   ]
  },
  {
   "cell_type": "code",
   "execution_count": 33,
   "metadata": {},
   "outputs": [
    {
     "data": {
      "text/html": [
       "<div>\n",
       "<style scoped>\n",
       "    .dataframe tbody tr th:only-of-type {\n",
       "        vertical-align: middle;\n",
       "    }\n",
       "\n",
       "    .dataframe tbody tr th {\n",
       "        vertical-align: top;\n",
       "    }\n",
       "\n",
       "    .dataframe thead th {\n",
       "        text-align: right;\n",
       "    }\n",
       "</style>\n",
       "<table border=\"1\" class=\"dataframe\">\n",
       "  <thead>\n",
       "    <tr style=\"text-align: right;\">\n",
       "      <th></th>\n",
       "      <th>id</th>\n",
       "      <th>node_id</th>\n",
       "      <th>url</th>\n",
       "      <th>name</th>\n",
       "      <th>color</th>\n",
       "      <th>default</th>\n",
       "      <th>description</th>\n",
       "    </tr>\n",
       "  </thead>\n",
       "  <tbody>\n",
       "  </tbody>\n",
       "</table>\n",
       "</div>"
      ],
      "text/plain": [
       "Empty DataFrame\n",
       "Columns: [id, node_id, url, name, color, default, description]\n",
       "Index: []"
      ]
     },
     "execution_count": 33,
     "metadata": {},
     "output_type": "execute_result"
    }
   ],
   "source": [
    "masterDF = pd.DataFrame(columns=['id','node_id','url','name','color','default','description'])\n",
    "masterDF"
   ]
  },
  {
   "cell_type": "code",
   "execution_count": 31,
   "metadata": {},
   "outputs": [],
   "source": [
    "for i in range(len(response)):\n",
    "    s = pd.DataFrame(response[i]['labels'])\n",
    "    masterDF.append(s,ignore_index=False)"
   ]
  },
  {
   "cell_type": "code",
   "execution_count": null,
   "metadata": {},
   "outputs": [],
   "source": []
  },
  {
   "cell_type": "code",
   "execution_count": 32,
   "metadata": {},
   "outputs": [
    {
     "data": {
      "text/html": [
       "<div>\n",
       "<style scoped>\n",
       "    .dataframe tbody tr th:only-of-type {\n",
       "        vertical-align: middle;\n",
       "    }\n",
       "\n",
       "    .dataframe tbody tr th {\n",
       "        vertical-align: top;\n",
       "    }\n",
       "\n",
       "    .dataframe thead th {\n",
       "        text-align: right;\n",
       "    }\n",
       "</style>\n",
       "<table border=\"1\" class=\"dataframe\">\n",
       "  <thead>\n",
       "    <tr style=\"text-align: right;\">\n",
       "      <th></th>\n",
       "      <th>id</th>\n",
       "      <th>node_id</th>\n",
       "      <th>url</th>\n",
       "      <th>name</th>\n",
       "      <th>color</th>\n",
       "      <th>default</th>\n",
       "      <th>description</th>\n",
       "    </tr>\n",
       "  </thead>\n",
       "  <tbody>\n",
       "  </tbody>\n",
       "</table>\n",
       "</div>"
      ],
      "text/plain": [
       "Empty DataFrame\n",
       "Columns: [id, node_id, url, name, color, default, description]\n",
       "Index: []"
      ]
     },
     "execution_count": 32,
     "metadata": {},
     "output_type": "execute_result"
    }
   ],
   "source": [
    "masterDF"
   ]
  },
  {
   "cell_type": "code",
   "execution_count": null,
   "metadata": {},
   "outputs": [],
   "source": []
  },
  {
   "cell_type": "code",
   "execution_count": null,
   "metadata": {},
   "outputs": [],
   "source": []
  }
 ],
 "metadata": {
  "kernelspec": {
   "display_name": "Python 3",
   "language": "python",
   "name": "python3"
  },
  "language_info": {
   "codemirror_mode": {
    "name": "ipython",
    "version": 3
   },
   "file_extension": ".py",
   "mimetype": "text/x-python",
   "name": "python",
   "nbconvert_exporter": "python",
   "pygments_lexer": "ipython3",
   "version": "3.8.5"
  }
 },
 "nbformat": 4,
 "nbformat_minor": 4
}
